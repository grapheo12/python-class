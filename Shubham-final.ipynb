{
 "cells": [
  {
   "cell_type": "code",
   "execution_count": 2,
   "metadata": {
    "collapsed": true
   },
   "outputs": [
    {
     "name": "stdout",
     "output_type": "stream",
     "text": [
      "__main__\n"
     ]
    }
   ],
   "source": [
    "# def:continuous input \n",
    "def radius(x):\n",
    "    y = 3.14*x**2\n",
    "    z = 2*3.14*x\n",
    "    print(\"The radius of te circle\", x)\n",
    "    print(\"Area of the circle\", y)\n",
    "    print(\"Perimeter of the circle\", z)\n",
    "    \n",
    "def cts_prompt():\n",
    "    p = input(\"yes or no\")\n",
    "    if p == 'yes' or p == 'Yes':\n",
    "        return True\n",
    "    elif p == 'no' or p=='No':\n",
    "        return False\n",
    "    else:\n",
    "        print(\"wrong input\")\n",
    "        cts_prompt()\n",
    "\n",
    "def circle():\n",
    "    while True:    \n",
    "        x = float(input(\"Give the Radius of the circle\"))\n",
    "        radius(x)\n",
    "        print(\"Do u wnt to exit???\")\n",
    "        \n",
    "        p = cts_prompt()\n",
    "        if p:\n",
    "            break\n",
    "            \n",
    "if __name__ == \"__main__\":\n",
    "    circle()"
   ]
  },
  {
   "cell_type": "code",
   "execution_count": 4,
   "metadata": {
    "collapsed": true
   },
   "outputs": [
    {
     "name": "stdout",
     "output_type": "stream",
     "text": [
      "Give your number5\n",
      "120\n"
     ]
    }
   ],
   "source": [
    "#Factorial function\n",
    "def factorial(x):\n",
    "    if x==0:\n",
    "        return 1 \n",
    "    return x*factorial(x-1)\n",
    "\n",
    "if __name__ == \"__main__\":\n",
    "    x = int(input(\"Give your number\"))\n",
    "    print(factorial(x))"
   ]
  },
  {
   "cell_type": "code",
   "execution_count": 5,
   "metadata": {
    "collapsed": true
   },
   "outputs": [
    {
     "name": "stdout",
     "output_type": "stream",
     "text": [
      "Sum of integers from 1 to 25 is 325\n",
      "Sum of integers from 50 to 75 is 1625\n",
      "Sum of integers from 90 to 100 is 1045\n"
     ]
    }
   ],
   "source": [
    "#Sum of all numbers between x and y\n",
    "def sum(x,y):\n",
    "    s=0\n",
    "    for i in range(x,y+1):\n",
    "        s+=i\n",
    "    print(\"Sum of integers from\",x,\"to\",y,\"is\",s)\n",
    "    \n",
    "if __name__ == \"__main__\":\n",
    "    sum(1,25)\n",
    "    sum(50,75)\n",
    "    sum(90,100)\n"
   ]
  },
  {
   "cell_type": "code",
   "execution_count": 6,
   "metadata": {},
   "outputs": [
    {
     "name": "stdout",
     "output_type": "stream",
     "text": [
      "1\n",
      "13\n",
      "135\n",
      "1357\n"
     ]
    }
   ],
   "source": [
    "#Patterns\n",
    "for i in range(3,10,2):\n",
    "    for j in range(1,i,2):\n",
    "        print(j, end='')\n",
    "    print()"
   ]
  },
  {
   "cell_type": "code",
   "execution_count": 7,
   "metadata": {},
   "outputs": [
    {
     "name": "stdout",
     "output_type": "stream",
     "text": [
      "1\n",
      "11\n",
      "111\n",
      "1111\n",
      "11111\n"
     ]
    }
   ],
   "source": [
    "n=1\n",
    "for a in range(5):\n",
    "    print(n)\n",
    "    n=n*10+1"
   ]
  },
  {
   "cell_type": "code",
   "execution_count": 8,
   "metadata": {},
   "outputs": [
    {
     "name": "stdout",
     "output_type": "stream",
     "text": [
      "1\n",
      "11\n",
      "111\n",
      "1111\n"
     ]
    }
   ],
   "source": [
    "for i in range(1,5):\n",
    "    print(i*\"1\")"
   ]
  },
  {
   "cell_type": "code",
   "execution_count": 17,
   "metadata": {},
   "outputs": [
    {
     "name": "stdout",
     "output_type": "stream",
     "text": [
      "  *  \n",
      " * * \n",
      "* * *\n",
      " * * \n",
      "  *  \n"
     ]
    }
   ],
   "source": [
    "for i in range(5):\n",
    "    for j in range(5):\n",
    "        if i + j == 2 or i - j == 2 or \\\n",
    "           j - i == 2 or i == j == 3 or i == j== 2:\n",
    "            print(\"*\", end=\"\")\n",
    "        else:\n",
    "            print(end=\" \")\n",
    "    print()"
   ]
  },
  {
   "cell_type": "code",
   "execution_count": 13,
   "metadata": {},
   "outputs": [
    {
     "name": "stdout",
     "output_type": "stream",
     "text": [
      "*     *\n",
      " *   * \n",
      "  * *  \n",
      "   *   \n",
      "  * *  \n",
      " *   * \n",
      "*     *\n"
     ]
    }
   ],
   "source": [
    "for i in range(7):\n",
    "    for j in range(7):\n",
    "        if i == j or i + j == 6:\n",
    "            print(\"*\", end=\"\")\n",
    "        else:\n",
    "            print(end=\" \")\n",
    "    print()"
   ]
  },
  {
   "cell_type": "code",
   "execution_count": 15,
   "metadata": {},
   "outputs": [
    {
     "name": "stdout",
     "output_type": "stream",
     "text": [
      "a \n",
      "a b \n",
      "a b c \n",
      "a b c d \n",
      "a b c d e \n",
      "a b c d e f \n",
      "a b c d e f g \n",
      "a b c d e f g h \n",
      "a b c d e f g h i \n",
      "a b c d e f g h i j \n",
      "a b c d e f g h i j k \n",
      "a b c d e f g h i j k l \n",
      "a b c d e f g h i j k l m \n",
      "a b c d e f g h i j k l m n \n",
      "a b c d e f g h i j k l m n o \n",
      "a b c d e f g h i j k l m n o p \n",
      "a b c d e f g h i j k l m n o p q \n",
      "a b c d e f g h i j k l m n o p q r \n",
      "a b c d e f g h i j k l m n o p q r s \n",
      "a b c d e f g h i j k l m n o p q r s t \n",
      "a b c d e f g h i j k l m n o p q r s t u \n",
      "a b c d e f g h i j k l m n o p q r s t u v \n",
      "a b c d e f g h i j k l m n o p q r s t u v w \n",
      "a b c d e f g h i j k l m n o p q r s t u v w x \n",
      "a b c d e f g h i j k l m n o p q r s t u v w x y \n",
      "a b c d e f g h i j k l m n o p q r s t u v w x y z \n"
     ]
    }
   ],
   "source": [
    "a=ord('a') \n",
    "for i in range(26):\n",
    "    for n in range(a, a + i + 1):\n",
    "        print(chr(n), end=\" \")\n",
    "    print()"
   ]
  },
  {
   "cell_type": "code",
   "execution_count": 16,
   "metadata": {},
   "outputs": [
    {
     "name": "stdout",
     "output_type": "stream",
     "text": [
      "\n",
      "*\n",
      "**\n",
      "***\n",
      "**\n",
      "*\n"
     ]
    }
   ],
   "source": [
    "for i in range(3):\n",
    "    print(i * \"*\")\n",
    "for i in range(3,0,-1):\n",
    "    print(i * \"*\")"
   ]
  },
  {
   "cell_type": "code",
   "execution_count": 19,
   "metadata": {},
   "outputs": [
    {
     "name": "stdout",
     "output_type": "stream",
     "text": [
      "  *  \n",
      " * * \n",
      "* * *\n",
      " * * \n",
      "  *  \n"
     ]
    }
   ],
   "source": [
    "for i in range(5):\n",
    "    for j in range(5):\n",
    "        if i + j == 2 or i - j == 2 or \\\n",
    "           j - i == 2 or i == j== 3 or i == j == 2:\n",
    "            print(\"*\",end=\"\")\n",
    "        else:\n",
    "            print(end=\" \")\n",
    "    print()"
   ]
  },
  {
   "cell_type": "code",
   "execution_count": 20,
   "metadata": {},
   "outputs": [
    {
     "name": "stdout",
     "output_type": "stream",
     "text": [
      "The first number is :4\n",
      "The secnd number is: 8\n",
      "The HCF is  4\n"
     ]
    }
   ],
   "source": [
    "#Program to print HCF\n",
    "x = int(input(\"The first number is :\"))\n",
    "y = int(input(\"The secnd number is: \"))\n",
    "z = len(str(x))\n",
    "w = 10**z\n",
    "for i in range(w,0,-1):\n",
    "      if x % i == 0 and y % i == 0:\n",
    "          print(\"The HCF is \",i)\n",
    "          break"
   ]
  },
  {
   "cell_type": "code",
   "execution_count": 21,
   "metadata": {},
   "outputs": [
    {
     "name": "stdout",
     "output_type": "stream",
     "text": [
      "Enter the number which multiplication table you want :2\n",
      "The multiplication table of  2 is\n",
      "2 * 1 = 2\n",
      "2 * 2 = 4\n",
      "2 * 3 = 6\n",
      "2 * 4 = 8\n",
      "2 * 5 = 10\n",
      "2 * 6 = 12\n",
      "2 * 7 = 14\n",
      "2 * 8 = 16\n",
      "2 * 9 = 18\n",
      "2 * 10 = 20\n"
     ]
    }
   ],
   "source": [
    "#PROGRAMME TO SHOW MULTIPLICATION TABLE :\n",
    "y = int(input('Enter the number which multiplication table you want :'))\n",
    "print('The multiplication table of ',y,'is') \n",
    "for n in range(1,11):\n",
    "    x = y * n\n",
    "    print(y, '*' , n, '=' , x)"
   ]
  },
  {
   "cell_type": "code",
   "execution_count": 23,
   "metadata": {
    "scrolled": true
   },
   "outputs": [
    {
     "name": "stdout",
     "output_type": "stream",
     "text": [
      "Enter a number which AP series you want :2\n",
      "Enter the difference of this AP series :-1\n",
      "The AP series of 2\n",
      "2\n",
      "1\n",
      "Loop Over !!\n"
     ]
    }
   ],
   "source": [
    "x = int(input('Enter a number which AP series you want :'))\n",
    "d = int(input('Enter the difference of this AP series :'))\n",
    "print(\"The AP series of\",x)\n",
    "while x > 0 :\n",
    "    print(x)\n",
    "    x = x + d\n",
    "print(\"Loop Over !!\")"
   ]
  },
  {
   "cell_type": "code",
   "execution_count": null,
   "metadata": {},
   "outputs": [],
   "source": [
    "#Program to check for Palendrom\n",
    "a = int(input(\"enter a no:\"))\n",
    "x = a\n",
    "sum = 0\n",
    "while a>0:\n",
    "    r = a % 10\n",
    "    sum = sum * 10 + r\n",
    "    a = int(a/10)\n",
    "if sum == x:\n",
    "    print(\"the no is palendrome\", x)\n",
    "else:\n",
    "    print(\"the no is not palendrome\", x)"
   ]
  },
  {
   "cell_type": "code",
   "execution_count": 24,
   "metadata": {},
   "outputs": [
    {
     "name": "stdout",
     "output_type": "stream",
     "text": [
      "True\n",
      "True\n"
     ]
    }
   ],
   "source": [
    "#String Palindrome\n",
    "def isPalindrome(s):\n",
    "    s = str(s)\n",
    "    return s == s[::-1]\n",
    "\n",
    "if __name__ == \"__main__\":\n",
    "    print(isPalindrome(12321))\n",
    "    print(isPalindrome(\"lol\"))"
   ]
  },
  {
   "cell_type": "code",
   "execution_count": 26,
   "metadata": {},
   "outputs": [
    {
     "name": "stdout",
     "output_type": "stream",
     "text": [
      "Enter a single character:@\n",
      "You enterd a special character.\n"
     ]
    }
   ],
   "source": [
    "#Program to check the type of input character\n",
    "\n",
    "ch=input(\"Enter a single character:\")\n",
    "\n",
    "if ch >= 'A' and ch <= 'Z':\n",
    "    print(\"You entered an Upper case character.\")\n",
    "elif ch >= 'a' and ch <= 'z':\n",
    "    print(\"You enterd a lower case character.\")\n",
    "elif ch >= '0' and ch<= '9':\n",
    "    print(\"You entered a digit.\")\n",
    "else:\n",
    "    print(\"You enterd a special character.\")"
   ]
  },
  {
   "cell_type": "code",
   "execution_count": 27,
   "metadata": {},
   "outputs": [
    {
     "name": "stdout",
     "output_type": "stream",
     "text": [
      "Enter 1st number (x) :2\n",
      "Enter 2nd number (y) : 3\n",
      "After swapping (x) = 3\n",
      "After swapping (y) = 2\n"
     ]
    }
   ],
   "source": [
    "#SWAPPING USING THIRD VARIABLE :\n",
    "x = int(input(\"Enter 1st number (x) :\"))\n",
    "y = int(input(\"Enter 2nd number (y) : \"))\n",
    "c = x\n",
    "x = y\n",
    "y = c\n",
    "print('After swapping (x) =', x)\n",
    "print('After swapping (y) =', y)"
   ]
  },
  {
   "cell_type": "code",
   "execution_count": 28,
   "metadata": {},
   "outputs": [
    {
     "name": "stdout",
     "output_type": "stream",
     "text": [
      "Enter 1st number(x) :2\n",
      "Enter 2nd number(y) :3\n",
      "After swapping (x) = 3\n",
      "After swapping (y) = 2\n"
     ]
    }
   ],
   "source": [
    "#SWAPPING WITHOUT USING THIRD VARIABLE (C Style)\n",
    "x = int(input('Enter 1st number(x) :'))\n",
    "y = int(input('Enter 2nd number(y) :'))\n",
    "x = x + y\n",
    "y = x - y\n",
    "x = x - y\n",
    "print('After swapping (x) =', x)\n",
    "print('After swapping (y) =', y)"
   ]
  },
  {
   "cell_type": "code",
   "execution_count": 29,
   "metadata": {},
   "outputs": [
    {
     "name": "stdout",
     "output_type": "stream",
     "text": [
      "Enter anything: (x) qwe\n",
      "Enter anything again: (y) abc\n",
      "After swapping: \n",
      "x:  abc\n",
      "y:  qwe\n"
     ]
    }
   ],
   "source": [
    "#Swapping Python Style\n",
    "x = input(\"Enter anything: (x) \")\n",
    "y = input(\"Enter anything again: (y) \")\n",
    "x, y = y, x\n",
    "print(\"After swapping: \")\n",
    "print(\"x: \", x)\n",
    "print(\"y: \", y)"
   ]
  },
  {
   "cell_type": "code",
   "execution_count": 30,
   "metadata": {},
   "outputs": [
    {
     "name": "stdout",
     "output_type": "stream",
     "text": [
      "Enter a number to check for prime or non prime :23\n",
      "23 is a prime number .\n"
     ]
    }
   ],
   "source": [
    "#PROGRAMME TO CHECK PRIME NUMBER :\n",
    "import math\n",
    "x=int(input(\"Enter a number to check for prime or non prime :\"))\n",
    "n=int(math.fabs(x))\n",
    "if n==0 :\n",
    "    print(x,\"is a non-prime number.\")\n",
    "elif n==1 :\n",
    "    print(x,\"is neither prime nor non-prime number.\")\n",
    "elif n==2 :\n",
    "    print(x,\"is a prime number.\")\n",
    "flag=0\n",
    "for r in range (2,n) :\n",
    "    if n%r==0:\n",
    "        flag=1\n",
    "        break\n",
    "if flag==1:\n",
    "    print(x,\"is a non-prime number .\")\n",
    "else:\n",
    "    print(x,\"is a prime number .\")    "
   ]
  },
  {
   "cell_type": "code",
   "execution_count": 32,
   "metadata": {},
   "outputs": [
    {
     "name": "stdout",
     "output_type": "stream",
     "text": [
      "enter a range:5\n",
      "enter a no:2\n",
      "enter a no:3\n",
      "enter a no:4\n",
      "enter a no:1\n",
      "enter a no:6\n",
      "[2, 3, 4, 1, 6]\n"
     ]
    }
   ],
   "source": [
    "y = list()\n",
    "n = int(input(\"enter a range:\"))\n",
    "for i in range(0,n):\n",
    "    p = int(input(\"enter a no:\"))\n",
    "    y.append(p)\n",
    "print(y)"
   ]
  },
  {
   "cell_type": "code",
   "execution_count": null,
   "metadata": {},
   "outputs": [],
   "source": [
    "#Triangle Checking\n",
    "import math\n",
    "\n",
    "a = int(input(\"Enter a number (+ve):\"))\n",
    "b = int(input(\"Enter a number(+ve) :\"))\n",
    "c = int(input(\"Enter a number(+ve) :\"))\n",
    "if a > 0 and b > 0 and c > 0:\n",
    "    if (a + b) > c and (b + c) > a and (c + a) > b:\n",
    "        if a == b and a == c:\n",
    "            print(\"It is an EQUILATERAL triangle.\")\n",
    "        elif a == b or b == c or c == a :\n",
    "            print(\"It is an ISOSCELES triangle.\")\n",
    "        else:\n",
    "            print(\"It is a SCALENE triangle.\")\n",
    "        s = (a + b + c) / 2 \n",
    "        p = s * (s - a) *(s - b) *(s - c)\n",
    "        q = math.sqrt(p)\n",
    "        print(\"The area of the triangle is \", q, \"sq.units.\")\n",
    "    else:\n",
    "        print(\"Triangle is not possible.\")\n",
    "else:\n",
    "    print(\"The sides of a triangle must not be zero or negative. \")"
   ]
  }
 ],
 "metadata": {
  "kernelspec": {
   "display_name": "Python 3",
   "language": "python",
   "name": "python3"
  },
  "language_info": {
   "codemirror_mode": {
    "name": "ipython",
    "version": 3
   },
   "file_extension": ".py",
   "mimetype": "text/x-python",
   "name": "python",
   "nbconvert_exporter": "python",
   "pygments_lexer": "ipython3",
   "version": "3.6.5"
  }
 },
 "nbformat": 4,
 "nbformat_minor": 2
}
